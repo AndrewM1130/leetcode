{
 "cells": [
  {
   "cell_type": "markdown",
   "metadata": {},
   "source": [
    "Given the head of a singly linked list, reverse the list, and return the reversed list."
   ]
  },
  {
   "cell_type": "code",
   "execution_count": 8,
   "metadata": {},
   "outputs": [],
   "source": [
    "# Definition for singly-linked list.\n",
    "class ListNode:\n",
    "     def __init__(self, val=0, next=None):\n",
    "        self.val = val\n",
    "        self.next = next\n",
    "\n",
    "# Utilize three pointers to reverse linked list\n",
    "## https://www.geeksforgeeks.org/reverse-a-linked-list/\n",
    "class Solution:\n",
    "    def reverseList(self, head):\n",
    "        curr = head\n",
    "        prev = None\n",
    "        next = None\n",
    "\n",
    "        while curr:  \n",
    "            next = curr.next\n",
    "            curr.next = prev\n",
    "            prev = curr\n",
    "            curr = next\n",
    "\n",
    "        return prev\n",
    "        "
   ]
  },
  {
   "cell_type": "code",
   "execution_count": 2,
   "metadata": {},
   "outputs": [],
   "source": [
    "def printList(linked):\n",
    "    temp = linked\n",
    "    while(temp):\n",
    "        print(temp.val, end=\" \")\n",
    "        temp = temp.next"
   ]
  },
  {
   "cell_type": "code",
   "execution_count": 4,
   "metadata": {},
   "outputs": [],
   "source": [
    "head = ListNode(val = 1, next = ListNode(val = 2, next = ListNode(val = 4, next= None)))"
   ]
  },
  {
   "cell_type": "code",
   "execution_count": 5,
   "metadata": {},
   "outputs": [],
   "source": [
    "curr = head\n",
    "prev = None\n",
    "next = None\n",
    "\n",
    "while curr:  \n",
    "    next = curr.next\n",
    "    curr.next = prev\n",
    "    prev = curr\n",
    "    curr = next\n"
   ]
  },
  {
   "cell_type": "code",
   "execution_count": 7,
   "metadata": {},
   "outputs": [
    {
     "name": "stdout",
     "output_type": "stream",
     "text": [
      "4 2 1 "
     ]
    }
   ],
   "source": [
    "printList(prev)"
   ]
  },
  {
   "cell_type": "markdown",
   "metadata": {},
   "source": [
    "### Constraints:\n",
    "\n",
    "- The number of nodes in the list is the range [0, 5000].\n",
    "- -5000 <= Node.val <= 5000\n",
    " \n",
    "\n",
    "- Follow up: A linked list can be reversed either iteratively or recursively. Could you implement both?"
   ]
  },
  {
   "cell_type": "code",
   "execution_count": null,
   "metadata": {},
   "outputs": [],
   "source": []
  }
 ],
 "metadata": {
  "kernelspec": {
   "display_name": "Python 3.7.13 ('mlenv')",
   "language": "python",
   "name": "python3"
  },
  "language_info": {
   "codemirror_mode": {
    "name": "ipython",
    "version": 3
   },
   "file_extension": ".py",
   "mimetype": "text/x-python",
   "name": "python",
   "nbconvert_exporter": "python",
   "pygments_lexer": "ipython3",
   "version": "3.7.13"
  },
  "orig_nbformat": 4,
  "vscode": {
   "interpreter": {
    "hash": "2ccad6534ce9795dc0999c3d027bfbefd7558d22df0d728d4680ed5275fccf0d"
   }
  }
 },
 "nbformat": 4,
 "nbformat_minor": 2
}
