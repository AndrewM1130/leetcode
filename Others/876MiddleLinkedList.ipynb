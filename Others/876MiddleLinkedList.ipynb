{
 "cells": [
  {
   "cell_type": "code",
   "execution_count": 1,
   "metadata": {},
   "outputs": [],
   "source": [
    "# Definition for singly-linked list.\n",
    "class ListNode:\n",
    "     def __init__(self, val=0, next=None):\n",
    "        self.val = val\n",
    "        self.next = next\n"
   ]
  },
  {
   "cell_type": "code",
   "execution_count": 5,
   "metadata": {},
   "outputs": [],
   "source": [
    "def printList(linked):\n",
    "    temp = linked\n",
    "    while(temp):\n",
    "        print(temp.val, end=\" \")\n",
    "        temp = temp.next"
   ]
  },
  {
   "cell_type": "code",
   "execution_count": 6,
   "metadata": {},
   "outputs": [],
   "source": [
    "def linked_len(linked):\n",
    "    temp = linked\n",
    "    count = 0\n",
    "    while(temp):\n",
    "        count +=1\n",
    "        temp = temp.next\n",
    "    return count\n",
    "\n",
    "\n",
    "def middle_node(head):\n",
    "\n",
    "    mid_index = linked_len(head)//2\n",
    "\n",
    "    while(mid_index)!=0:\n",
    "        curr = curr.next\n",
    "        mid_index -= 1\n",
    "\n",
    "    return curr.val\n"
   ]
  },
  {
   "cell_type": "code",
   "execution_count": 10,
   "metadata": {},
   "outputs": [],
   "source": [
    "head = ListNode(val = 1, next = ListNode(val = 2, next = ListNode(val = 4, next= None)))\n",
    "head2 = ListNode(val = 1, next = ListNode(val = 2, next = ListNode(val = 4, next = ListNode(val = 5, next= None))))"
   ]
  },
  {
   "cell_type": "code",
   "execution_count": 11,
   "metadata": {},
   "outputs": [
    {
     "name": "stdout",
     "output_type": "stream",
     "text": [
      "1 2 4 "
     ]
    }
   ],
   "source": [
    "printList(head)"
   ]
  },
  {
   "cell_type": "code",
   "execution_count": 12,
   "metadata": {},
   "outputs": [
    {
     "data": {
      "text/plain": [
       "3"
      ]
     },
     "execution_count": 12,
     "metadata": {},
     "output_type": "execute_result"
    }
   ],
   "source": [
    "linked_len(head)"
   ]
  },
  {
   "cell_type": "code",
   "execution_count": 21,
   "metadata": {},
   "outputs": [
    {
     "data": {
      "text/plain": [
       "2"
      ]
     },
     "execution_count": 21,
     "metadata": {},
     "output_type": "execute_result"
    }
   ],
   "source": [
    "linked_len(head2)//2"
   ]
  },
  {
   "cell_type": "code",
   "execution_count": 22,
   "metadata": {},
   "outputs": [
    {
     "data": {
      "text/plain": [
       "4"
      ]
     },
     "execution_count": 22,
     "metadata": {},
     "output_type": "execute_result"
    }
   ],
   "source": [
    "curr = head2\n",
    "mid_index = linked_len(head2)//2\n",
    "\n",
    "while(mid_index)!=0:\n",
    "    curr = curr.next\n",
    "    mid_index -= 1\n",
    "\n",
    "curr.val\n",
    "\n",
    "\n",
    "    \n"
   ]
  },
  {
   "cell_type": "code",
   "execution_count": null,
   "metadata": {},
   "outputs": [],
   "source": []
  }
 ],
 "metadata": {
  "kernelspec": {
   "display_name": "Python 3.7.13 ('mlenv')",
   "language": "python",
   "name": "python3"
  },
  "language_info": {
   "codemirror_mode": {
    "name": "ipython",
    "version": 3
   },
   "file_extension": ".py",
   "mimetype": "text/x-python",
   "name": "python",
   "nbconvert_exporter": "python",
   "pygments_lexer": "ipython3",
   "version": "3.7.13"
  },
  "orig_nbformat": 4,
  "vscode": {
   "interpreter": {
    "hash": "2ccad6534ce9795dc0999c3d027bfbefd7558d22df0d728d4680ed5275fccf0d"
   }
  }
 },
 "nbformat": 4,
 "nbformat_minor": 2
}
