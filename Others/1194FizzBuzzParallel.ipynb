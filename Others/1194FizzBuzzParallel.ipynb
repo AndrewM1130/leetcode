{
 "cells": [
  {
   "cell_type": "code",
   "execution_count": 1,
   "metadata": {},
   "outputs": [
    {
     "ename": "IndentationError",
     "evalue": "expected an indented block (<ipython-input-1-e68f024e46b3>, line 10)",
     "output_type": "error",
     "traceback": [
      "\u001b[0;36m  File \u001b[0;32m\"<ipython-input-1-e68f024e46b3>\"\u001b[0;36m, line \u001b[0;32m10\u001b[0m\n\u001b[0;31m    def buzz(self, printBuzz: 'Callable[[], None]') -> None:\u001b[0m\n\u001b[0m    ^\u001b[0m\n\u001b[0;31mIndentationError\u001b[0m\u001b[0;31m:\u001b[0m expected an indented block\n"
     ]
    }
   ],
   "source": [
    "class FizzBuzz:\n",
    "    def __init__(self, n: int):\n",
    "        self.n = n\n",
    "\n",
    "    # printFizz() outputs \"fizz\"\n",
    "    def fizz(self, printFizz: 'Callable[[], None]') -> None:\n",
    "    \t\n",
    "\n",
    "    # printBuzz() outputs \"buzz\"\n",
    "    def buzz(self, printBuzz: 'Callable[[], None]') -> None:\n",
    "    \t\n",
    "\n",
    "    # printFizzBuzz() outputs \"fizzbuzz\"\n",
    "    def fizzbuzz(self, printFizzBuzz: 'Callable[[], None]') -> None:\n",
    "        \n",
    "\n",
    "    # printNumber(x) outputs \"x\", where x is an integer.\n",
    "    def number(self, printNumber: 'Callable[[int], None]') -> None:\n",
    "        "
   ]
  },
  {
   "cell_type": "code",
   "execution_count": null,
   "metadata": {},
   "outputs": [],
   "source": []
  }
 ],
 "metadata": {
  "interpreter": {
   "hash": "1932785456cf4f119288ea3ebcc1e995dabfb0fd145e6ee6d8e83b8ee89252d0"
  },
  "kernelspec": {
   "display_name": "Python 3.8.3 ('base')",
   "language": "python",
   "name": "python3"
  },
  "language_info": {
   "codemirror_mode": {
    "name": "ipython",
    "version": 3
   },
   "file_extension": ".py",
   "mimetype": "text/x-python",
   "name": "python",
   "nbconvert_exporter": "python",
   "pygments_lexer": "ipython3",
   "version": "3.8.3"
  },
  "orig_nbformat": 4
 },
 "nbformat": 4,
 "nbformat_minor": 2
}
