{
 "cells": [
  {
   "cell_type": "markdown",
   "metadata": {},
   "source": [
    "Given an m x n grid of characters board and a string word, return true if word exists in the grid.\n",
    "\n",
    "The word can be constructed from letters of sequentially adjacent cells, where adjacent cells are horizontally or vertically neighboring. The same letter cell may not be used more than once.\n",
    "\n",
    "\n",
    "Constraints:\n",
    "\n",
    "- m == board.length\n",
    "- n = board[i].length\n",
    "- $1 \\leq m, n \\leq 6$\n",
    "- $1 \\leq word.length \\leq 15$\n",
    "- board and word consists of only lowercase and uppercase English letters.\n",
    "\n",
    "Example 1:\n",
    "\n",
    "Input:\\\n",
    "Output: \n",
    "\n",
    "Example 2:\n",
    "\n",
    "Input:\\\n",
    "Output:\n",
    "\n",
    "Example 3:\n",
    "\n",
    "Input:\\\n",
    "Output: "
   ]
  },
  {
   "cell_type": "markdown",
   "metadata": {},
   "source": []
  }
 ],
 "metadata": {
  "language_info": {
   "name": "python"
  },
  "orig_nbformat": 4
 },
 "nbformat": 4,
 "nbformat_minor": 2
}
