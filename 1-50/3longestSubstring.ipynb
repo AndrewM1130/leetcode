{
 "cells": [
  {
   "cell_type": "markdown",
   "metadata": {},
   "source": [
    "Problem: Longest Substring Without Repeating Characters\n",
    "\n",
    "Objective: Given a string s, find the length of the longest substring without repeating characters.\n",
    "\n",
    "**Method:**\n",
    "1. Sliding Window -> O(n) time complexity\n",
    "2. Two Pointer Strategy"
   ]
  },
  {
   "cell_type": "code",
   "execution_count": 561,
   "metadata": {},
   "outputs": [],
   "source": [
    "class Solution:\n",
    "    def lengthOfLongestSubstring(self, s: str) -> int: \n",
    "        charSet = set()\n",
    "        left = 0\n",
    "        result = 0\n",
    "        \n",
    "        for right in range(len(s)):\n",
    "\n",
    "            while s[right] in charSet:\n",
    "                charSet.remove(s[left])\n",
    "                left += 1\n",
    "\n",
    "            charSet.add(s[right])\n",
    "            result = max(result, right - left + 1)\n",
    "            \n",
    "        return result"
   ]
  },
  {
   "cell_type": "code",
   "execution_count": 559,
   "metadata": {},
   "outputs": [
    {
     "name": "stdout",
     "output_type": "stream",
     "text": [
      "right\n",
      "right\n",
      "right\n",
      "right\n",
      "doing\n",
      "right\n",
      "doing\n",
      "right\n",
      "doing\n",
      "right\n",
      "doing\n",
      "right\n",
      "doing\n"
     ]
    },
    {
     "data": {
      "text/plain": [
       "'abcabcbb'"
      ]
     },
     "execution_count": 559,
     "metadata": {},
     "output_type": "execute_result"
    }
   ],
   "source": [
    "s = \"abcabcbb\" \n",
    "Solution().lengthOfLongestSubstring(s)"
   ]
  },
  {
   "cell_type": "code",
   "execution_count": 551,
   "metadata": {},
   "outputs": [],
   "source": [
    "from collections import Counter\n",
    "class Solution:\n",
    "    def lengthOfLongestSubstring(self, s: str) -> int:\n",
    "        # Purpose: find len of the longest substring with unique characters\n",
    "        # Method: sliding window\n",
    "        # Intuition: move right, while duplicates, move left, update window size\n",
    "        \n",
    "        # init\n",
    "        left = 0\n",
    "        max_len = 0\n",
    "        counter = Counter()\n",
    "        \n",
    "        # move right \n",
    "        for right in range(len(s)):\n",
    "            counter[s[right]] += 1\n",
    "        \n",
    "            # while duplicates, move left\n",
    "            while counter[s[right]] > 1:\n",
    "                counter[s[left]] -= 1\n",
    "                left += 1\n",
    "            \n",
    "            # update window size\n",
    "            cur_len = right - left + 1\n",
    "            max_len = max(max_len, cur_len)\n",
    "\n",
    "        # return \n",
    "        return max_len"
   ]
  },
  {
   "cell_type": "code",
   "execution_count": 552,
   "metadata": {},
   "outputs": [
    {
     "data": {
      "text/plain": [
       "1"
      ]
     },
     "execution_count": 552,
     "metadata": {},
     "output_type": "execute_result"
    }
   ],
   "source": [
    "s = \"bbbbb\"\n",
    "Solution().lengthOfLongestSubstring(s)"
   ]
  },
  {
   "cell_type": "code",
   "execution_count": 538,
   "metadata": {},
   "outputs": [
    {
     "name": "stdout",
     "output_type": "stream",
     "text": [
      "1\n",
      "2\n",
      "1\n",
      "2\n",
      "3\n",
      "3\n",
      "Counter({'w': 1, 'k': 1, 'e': 1, 'p': 0})\n"
     ]
    },
    {
     "data": {
      "text/plain": [
       "3"
      ]
     },
     "execution_count": 538,
     "metadata": {},
     "output_type": "execute_result"
    }
   ],
   "source": [
    "s = \"pwwkew\"\n",
    "Solution().lengthOfLongestSubstring(s)"
   ]
  },
  {
   "cell_type": "code",
   "execution_count": 511,
   "metadata": {},
   "outputs": [
    {
     "data": {
      "text/plain": [
       "5"
      ]
     },
     "execution_count": 511,
     "metadata": {},
     "output_type": "execute_result"
    }
   ],
   "source": [
    "s = \"ckilbkd\"\n",
    "Solution().lengthOfLongestSubstring(s)"
   ]
  },
  {
   "cell_type": "code",
   "execution_count": 512,
   "metadata": {},
   "outputs": [
    {
     "data": {
      "text/plain": [
       "2"
      ]
     },
     "execution_count": 512,
     "metadata": {},
     "output_type": "execute_result"
    }
   ],
   "source": [
    "s = \"aab\"\n",
    "Solution().lengthOfLongestSubstring(s)"
   ]
  },
  {
   "cell_type": "code",
   "execution_count": 513,
   "metadata": {},
   "outputs": [
    {
     "data": {
      "text/plain": [
       "1"
      ]
     },
     "execution_count": 513,
     "metadata": {},
     "output_type": "execute_result"
    }
   ],
   "source": [
    "s = \" \"\n",
    "Solution().lengthOfLongestSubstring(s)"
   ]
  },
  {
   "cell_type": "code",
   "execution_count": 514,
   "metadata": {},
   "outputs": [
    {
     "data": {
      "text/plain": [
       "3"
      ]
     },
     "execution_count": 514,
     "metadata": {},
     "output_type": "execute_result"
    }
   ],
   "source": [
    "s = \"dvdf\"\n",
    "Solution().lengthOfLongestSubstring(s)"
   ]
  },
  {
   "cell_type": "code",
   "execution_count": 515,
   "metadata": {},
   "outputs": [
    {
     "data": {
      "text/plain": [
       "5"
      ]
     },
     "execution_count": 515,
     "metadata": {},
     "output_type": "execute_result"
    }
   ],
   "source": [
    "s = \"anviaj\"\n",
    "Solution().lengthOfLongestSubstring(s)"
   ]
  },
  {
   "cell_type": "code",
   "execution_count": 516,
   "metadata": {},
   "outputs": [
    {
     "data": {
      "text/plain": [
       "'anviaj'"
      ]
     },
     "execution_count": 516,
     "metadata": {},
     "output_type": "execute_result"
    }
   ],
   "source": [
    "s"
   ]
  },
  {
   "cell_type": "code",
   "execution_count": null,
   "metadata": {},
   "outputs": [],
   "source": []
  }
 ],
 "metadata": {
  "interpreter": {
   "hash": "1932785456cf4f119288ea3ebcc1e995dabfb0fd145e6ee6d8e83b8ee89252d0"
  },
  "kernelspec": {
   "display_name": "Python 3.8.3 ('base')",
   "language": "python",
   "name": "python3"
  },
  "language_info": {
   "codemirror_mode": {
    "name": "ipython",
    "version": 3
   },
   "file_extension": ".py",
   "mimetype": "text/x-python",
   "name": "python",
   "nbconvert_exporter": "python",
   "pygments_lexer": "ipython3",
   "version": "3.8.3"
  },
  "orig_nbformat": 4
 },
 "nbformat": 4,
 "nbformat_minor": 2
}
