{
 "cells": [
  {
   "cell_type": "markdown",
   "metadata": {},
   "source": [
    "You are given the heads of two sorted linked lists list1 and list2.\n",
    "\n",
    "Merge the two lists in a one sorted list. The list should be made by splicing together the nodes of the first two lists.\n",
    "\n",
    "Return the head of the merged linked list."
   ]
  },
  {
   "cell_type": "code",
   "execution_count": 79,
   "metadata": {},
   "outputs": [],
   "source": [
    "## note that Listnode initializations have a default value of 0\n",
    "class ListNode:\n",
    "    def __init__(self, val=0, next=None):\n",
    "        self.val = val\n",
    "        self.next = next\n",
    "\n",
    "\n",
    "class Solution:\n",
    "    def mergeTwoLists(self,list1,list2):\n",
    "        return 1\n",
    "        "
   ]
  },
  {
   "cell_type": "code",
   "execution_count": 80,
   "metadata": {},
   "outputs": [],
   "source": [
    "l1 = ListNode(val = 1, next = ListNode(val = 2, next = ListNode(val = 4, next= None)))\n",
    "l2 = ListNode(val = 1, next = ListNode(val = 3, next = ListNode(val = 4, next= None)))"
   ]
  },
  {
   "cell_type": "code",
   "execution_count": 81,
   "metadata": {},
   "outputs": [
    {
     "data": {
      "text/plain": [
       "0"
      ]
     },
     "execution_count": 81,
     "metadata": {},
     "output_type": "execute_result"
    }
   ],
   "source": [
    "dummy = ListNode()\n",
    "dummy.val"
   ]
  },
  {
   "cell_type": "code",
   "execution_count": 82,
   "metadata": {},
   "outputs": [],
   "source": [
    "class Solution:\n",
    "    def mergeTwoLists(self, list1, list2):\n",
    "\n",
    "        dummy = ListNode(None) ## this initializes an empty ListNode for us to put stuff into\n",
    "        cur = dummy ## point to dummy & add to its linked elements\n",
    "\n",
    "        while list1 and list2:           \n",
    "\n",
    "            if list1.val <= list2.val:\n",
    "                cur.next = list1\n",
    "                list1 =  list1.next\n",
    "                \n",
    "            else:\n",
    "                cur.next = list2\n",
    "                list2 = list2.next\n",
    "\n",
    "            cur = cur.next ## IMPORTANT: point the head of the linked list to the next object\n",
    "\n",
    "        if list1 or list2:\n",
    "            cur.next = list1 if list1 else list2\n",
    "            \n",
    "        return dummy.next\n",
    "\n",
    "x = Solution()\n",
    "res = x.mergeTwoLists(l1,l2)   "
   ]
  },
  {
   "cell_type": "code",
   "execution_count": 83,
   "metadata": {},
   "outputs": [
    {
     "data": {
      "text/plain": [
       "1"
      ]
     },
     "execution_count": 83,
     "metadata": {},
     "output_type": "execute_result"
    }
   ],
   "source": [
    "# Expected Output: 1 -> 1 -> 2 -> 3 -> 4 -> 4\n",
    "\n",
    "res.val"
   ]
  },
  {
   "cell_type": "code",
   "execution_count": 90,
   "metadata": {},
   "outputs": [
    {
     "name": "stdout",
     "output_type": "stream",
     "text": [
      "1 1 2 3 4 4 "
     ]
    }
   ],
   "source": [
    "## Utility function to print out linked lists\n",
    "\n",
    "def printList(linked):\n",
    "    temp = linked\n",
    "    while(temp):\n",
    "        print(temp.val, end=\" \")\n",
    "        temp = temp.next\n",
    "\n",
    "printList(res)"
   ]
  },
  {
   "cell_type": "code",
   "execution_count": null,
   "metadata": {},
   "outputs": [],
   "source": []
  }
 ],
 "metadata": {
  "interpreter": {
   "hash": "1932785456cf4f119288ea3ebcc1e995dabfb0fd145e6ee6d8e83b8ee89252d0"
  },
  "kernelspec": {
   "display_name": "Python 3.8.3 ('base')",
   "language": "python",
   "name": "python3"
  },
  "language_info": {
   "codemirror_mode": {
    "name": "ipython",
    "version": 3
   },
   "file_extension": ".py",
   "mimetype": "text/x-python",
   "name": "python",
   "nbconvert_exporter": "python",
   "pygments_lexer": "ipython3",
   "version": "3.8.3"
  },
  "orig_nbformat": 4
 },
 "nbformat": 4,
 "nbformat_minor": 2
}
