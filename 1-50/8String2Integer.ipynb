{
 "cells": [
  {
   "cell_type": "markdown",
   "metadata": {},
   "source": [
    "Implement the myAtoi(string s) function, which converts a string to a 32-bit signed integer (similar to C/C++'s atoi function).\n",
    "\n",
    "The algorithm for myAtoi(string s) is as follows:\n",
    "\n",
    "- Read in and ignore any leading whitespace.\n",
    "  \n",
    "- Check if the next character (if not already at the end of the string) is '-' or '+'. Read this character in if it is either. This determines if the final result is negative or positive respectively. Assume the result is positive if neither is present.\n",
    "  \n",
    "- Read in next the characters until the next non-digit character or the end of the input is reached. The rest of the string is ignored.\n",
    "  \n",
    "- Convert these digits into an integer (i.e. \"123\" -> 123, \"0032\" -> 32). If no digits were read, then the integer is 0. Change the sign as necessary (from step 2).\n",
    "  \n",
    "- If the integer is out of the 32-bit signed integer range $[-2^{31}, 2^{31} - 1]$, then clamp the integer so that it remains in the range. Specifically, integers less than $-2^{31}$ should be clamped to $-2^{31}$, and integers greater than $2^{31}$ - 1 should be clamped to $2^{31}$ - 1.\n",
    "  \n",
    "- Return the integer as the final result.\n",
    "\n",
    "Note:\\\n",
    "Only the space character ' ' is considered a whitespace character.\n",
    "Do not ignore any characters other than the leading whitespace or the rest of the string after the digits.\n",
    " "
   ]
  },
  {
   "cell_type": "markdown",
   "metadata": {},
   "source": [
    "**Possible Cases:**\n",
    "\n",
    "- Whitespaces (' ')\n",
    "- Digits ('0', '1', '2', '3', '4', '5', '6', '7', '8', '9')\n",
    "- A sign ('+' or '-')\n",
    "- Anything else (alphabetic characters, symbols, special characters, etc.)"
   ]
  },
  {
   "cell_type": "code",
   "execution_count": 188,
   "metadata": {},
   "outputs": [],
   "source": [
    "def atoi(s):\n",
    "    res = \"\"\n",
    "    sign = \"\"\n",
    "\n",
    "    if s.isspace() or len(s) == 0:\n",
    "        return(0)\n",
    "\n",
    "    for i in s:\n",
    "        if i == ' ':\n",
    "            continue\n",
    "        if ((i == '+' or i == '-') and (sign == \"\")):\n",
    "            sign = i\n",
    "        elif ((i == '+' or i == '-') and (sign != \"\")):\n",
    "            return(0)\n",
    "        if i.isdigit():\n",
    "            res += i\n",
    "        if not i.isdigit() and res:\n",
    "            break\n",
    "        if not i.isdigit() and not res and i != '+' and i != '-':\n",
    "            return(0)\n",
    "\n",
    "    try:\n",
    "        temp = int(sign + res)\n",
    "    except:\n",
    "        return(0)\n",
    "        \n",
    "    if temp < -2**(31): \n",
    "        return(-2**(31))\n",
    "    if temp > 2**(31)-1:\n",
    "        return(2**(31)-1)\n",
    "    return temp"
   ]
  },
  {
   "cell_type": "code",
   "execution_count": 201,
   "metadata": {},
   "outputs": [],
   "source": [
    "def atoi(s):\n",
    "    number, sign = 0, 1\n",
    "    # remove leading whitespace\n",
    "    s = s.lstrip()\n",
    "    # if string is empty, so return 0\n",
    "    if not s: return 0\n",
    "    # check minus charater\n",
    "    if s[0] == \"-\":\n",
    "        s = s[1:]\n",
    "        sign = -1\n",
    "    # check plus charater\n",
    "    elif s[0] == \"+\":\n",
    "        s = s[1:]\n",
    "    # make foreach every charater\n",
    "    for i in range(len(s)):\n",
    "        if s[i] in \"0123456789\":\n",
    "            number = number * 10 + int(s[i])\n",
    "        else:\n",
    "            break\n",
    "    # check number is nol\n",
    "    if number == 0: return 0\n",
    "    # string converts to number\n",
    "    number = sign * number\n",
    "    int32_min, int32_max = -2**31, 2**31-1\n",
    "    if number < int32_min: return int32_min\n",
    "    if number > int32_max: return int32_max\n",
    "    return number"
   ]
  },
  {
   "cell_type": "code",
   "execution_count": 202,
   "metadata": {},
   "outputs": [
    {
     "data": {
      "text/plain": [
       "0"
      ]
     },
     "execution_count": 202,
     "metadata": {},
     "output_type": "execute_result"
    }
   ],
   "source": [
    "atoi(\"+\")"
   ]
  },
  {
   "cell_type": "code",
   "execution_count": 203,
   "metadata": {},
   "outputs": [
    {
     "data": {
      "text/plain": [
       "0"
      ]
     },
     "execution_count": 203,
     "metadata": {},
     "output_type": "execute_result"
    }
   ],
   "source": [
    "atoi(\"\")"
   ]
  },
  {
   "cell_type": "code",
   "execution_count": 191,
   "metadata": {},
   "outputs": [
    {
     "data": {
      "text/plain": [
       "0"
      ]
     },
     "execution_count": 191,
     "metadata": {},
     "output_type": "execute_result"
    }
   ],
   "source": [
    "atoi(\"   \")"
   ]
  },
  {
   "cell_type": "code",
   "execution_count": 192,
   "metadata": {},
   "outputs": [
    {
     "data": {
      "text/plain": [
       "987"
      ]
     },
     "execution_count": 192,
     "metadata": {},
     "output_type": "execute_result"
    }
   ],
   "source": [
    "atoi(\"  987\")"
   ]
  },
  {
   "cell_type": "code",
   "execution_count": 193,
   "metadata": {},
   "outputs": [
    {
     "data": {
      "text/plain": [
       "-987"
      ]
     },
     "execution_count": 193,
     "metadata": {},
     "output_type": "execute_result"
    }
   ],
   "source": [
    "atoi(\"  -987\")"
   ]
  },
  {
   "cell_type": "code",
   "execution_count": 194,
   "metadata": {},
   "outputs": [
    {
     "data": {
      "text/plain": [
       "0"
      ]
     },
     "execution_count": 194,
     "metadata": {},
     "output_type": "execute_result"
    }
   ],
   "source": [
    "atoi(\"words and 987\")"
   ]
  },
  {
   "cell_type": "code",
   "execution_count": 195,
   "metadata": {},
   "outputs": [
    {
     "data": {
      "text/plain": [
       "42"
      ]
     },
     "execution_count": 195,
     "metadata": {},
     "output_type": "execute_result"
    }
   ],
   "source": [
    "atoi(\"42\")"
   ]
  },
  {
   "cell_type": "code",
   "execution_count": 196,
   "metadata": {},
   "outputs": [
    {
     "data": {
      "text/plain": [
       "-42"
      ]
     },
     "execution_count": 196,
     "metadata": {},
     "output_type": "execute_result"
    }
   ],
   "source": [
    "atoi(\"    -42\")"
   ]
  },
  {
   "cell_type": "code",
   "execution_count": 197,
   "metadata": {},
   "outputs": [
    {
     "data": {
      "text/plain": [
       "4193"
      ]
     },
     "execution_count": 197,
     "metadata": {},
     "output_type": "execute_result"
    }
   ],
   "source": [
    "atoi(\"4193 with words\")"
   ]
  },
  {
   "cell_type": "code",
   "execution_count": 198,
   "metadata": {},
   "outputs": [
    {
     "data": {
      "text/plain": [
       "-2147483648"
      ]
     },
     "execution_count": 198,
     "metadata": {},
     "output_type": "execute_result"
    }
   ],
   "source": [
    "atoi(\"-91283472332\")"
   ]
  },
  {
   "cell_type": "code",
   "execution_count": 199,
   "metadata": {},
   "outputs": [
    {
     "data": {
      "text/plain": [
       "0"
      ]
     },
     "execution_count": 199,
     "metadata": {},
     "output_type": "execute_result"
    }
   ],
   "source": [
    "atoi(\"+-12\")"
   ]
  },
  {
   "cell_type": "code",
   "execution_count": 200,
   "metadata": {},
   "outputs": [
    {
     "data": {
      "text/plain": [
       "0"
      ]
     },
     "execution_count": 200,
     "metadata": {},
     "output_type": "execute_result"
    }
   ],
   "source": [
    "atoi(\"-+12\")"
   ]
  },
  {
   "cell_type": "code",
   "execution_count": null,
   "metadata": {},
   "outputs": [],
   "source": []
  }
 ],
 "metadata": {
  "kernelspec": {
   "display_name": "Python 3.8.3 ('base')",
   "language": "python",
   "name": "python3"
  },
  "language_info": {
   "codemirror_mode": {
    "name": "ipython",
    "version": 3
   },
   "file_extension": ".py",
   "mimetype": "text/x-python",
   "name": "python",
   "nbconvert_exporter": "python",
   "pygments_lexer": "ipython3",
   "version": "3.8.3"
  },
  "orig_nbformat": 4,
  "vscode": {
   "interpreter": {
    "hash": "1932785456cf4f119288ea3ebcc1e995dabfb0fd145e6ee6d8e83b8ee89252d0"
   }
  }
 },
 "nbformat": 4,
 "nbformat_minor": 2
}
