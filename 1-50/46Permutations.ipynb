{
 "cells": [
  {
   "cell_type": "markdown",
   "metadata": {},
   "source": [
    "Given an array nums of distinct integers, return all the possible permutations. You can return the answer in any order.\n",
    "\n",
    "Input: nums = [1,2,3]\\\n",
    "Output: [[1,2,3],[1,3,2],[2,1,3],[2,3,1],[3,1,2],[3,2,1]]\n",
    "\\\n",
    "\\\n",
    "Input: nums = [0,1]\\\n",
    "Output: [[0,1],[1,0]]\n",
    "\\\n",
    "\\\n",
    "Input: nums = [1]\\\n",
    "Output: [[1]]"
   ]
  },
  {
   "cell_type": "code",
   "execution_count": null,
   "metadata": {},
   "outputs": [],
   "source": [
    "nums = [1,2,3]"
   ]
  }
 ],
 "metadata": {
  "language_info": {
   "name": "python"
  },
  "orig_nbformat": 4
 },
 "nbformat": 4,
 "nbformat_minor": 2
}
