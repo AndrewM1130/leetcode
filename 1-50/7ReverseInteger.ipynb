{
 "cells": [
  {
   "cell_type": "markdown",
   "metadata": {},
   "source": [
    "Given a signed 32-bit integer x, return x with its digits reversed. If reversing x causes the value to go outside the signed 32-bit integer range $[-2^{31}, 2^{31} - 1]$, then return 0.\n",
    "\n",
    "Assume the environment does not allow you to store 64-bit integers (signed or unsigned).\n",
    "\n",
    "Input: x = 123\n",
    "Output: 321\n",
    "\n",
    "Input: x = -123\n",
    "Output: -321\n",
    "\n",
    "Input: x = 120\n",
    "Output: 21\n",
    "\n",
    "Constraints:\n",
    "\n",
    "$-2^{31} <= x <= 2^{31} - 1$"
   ]
  },
  {
   "cell_type": "code",
   "execution_count": 71,
   "metadata": {},
   "outputs": [],
   "source": [
    "def reverse(x):\n",
    "    res = \"\"\n",
    "    for i in range(len(str(x))-1,-1,-1):\n",
    "        if str(x)[i].isdigit():\n",
    "            res += str(x)[i]\n",
    "    if str(x)[0] == \"-\": \n",
    "        res =  \"-\" + res\n",
    "    if int(res) >= 2**31-1 or int(res) <= -2**31: \n",
    "        return 0\n",
    "    else: \n",
    "        return int(res)"
   ]
  },
  {
   "cell_type": "code",
   "execution_count": 72,
   "metadata": {},
   "outputs": [
    {
     "data": {
      "text/plain": [
       "0"
      ]
     },
     "execution_count": 72,
     "metadata": {},
     "output_type": "execute_result"
    }
   ],
   "source": [
    "reverse(1534236469)"
   ]
  }
 ],
 "metadata": {
  "kernelspec": {
   "display_name": "Python 3.8.3 ('base')",
   "language": "python",
   "name": "python3"
  },
  "language_info": {
   "codemirror_mode": {
    "name": "ipython",
    "version": 3
   },
   "file_extension": ".py",
   "mimetype": "text/x-python",
   "name": "python",
   "nbconvert_exporter": "python",
   "pygments_lexer": "ipython3",
   "version": "3.8.3"
  },
  "orig_nbformat": 4,
  "vscode": {
   "interpreter": {
    "hash": "1932785456cf4f119288ea3ebcc1e995dabfb0fd145e6ee6d8e83b8ee89252d0"
   }
  }
 },
 "nbformat": 4,
 "nbformat_minor": 2
}
