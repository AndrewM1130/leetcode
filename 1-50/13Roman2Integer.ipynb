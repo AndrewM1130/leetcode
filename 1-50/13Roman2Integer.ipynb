{
 "cells": [
  {
   "cell_type": "markdown",
   "metadata": {},
   "source": [
    "Example 1:\n",
    "\n",
    "Input: s = \"III\"\\\n",
    "Output: 3\\\n",
    "Explanation: III = 3.\n",
    "\n",
    "Example 2:\n",
    "\n",
    "Input: s = \"LVIII\"\\\n",
    "Output: 58\\\n",
    "Explanation: L = 50, V= 5, III = 3.\n",
    "\n",
    "Example 3:\n",
    "\n",
    "Input: s = \"MCMXCIV\"\\\n",
    "Output: 1994\\\n",
    "Explanation: M = 1000, CM = 900, XC = 90 and IV = 4."
   ]
  },
  {
   "cell_type": "code",
   "execution_count": 67,
   "metadata": {},
   "outputs": [],
   "source": [
    "class Solution:\n",
    "    def romanToInt(self, S: str) -> int:\n",
    "        roman = {'I':1, 'V':5, 'X':10, 'L':50, 'C':100, 'D':500, 'M':1000}\n",
    "        s = [i for i in S]\n",
    "\n",
    "        tot = 0\n",
    "        for i in range(len(s)):\n",
    "            if i + 1 < len(s) and roman[s[i]] < roman[s[i + 1]]:\n",
    "                tot -= roman[s[i]]\n",
    "            else:\n",
    "                tot += roman[s[i]]\n",
    "            \n",
    "        return tot"
   ]
  },
  {
   "cell_type": "code",
   "execution_count": 68,
   "metadata": {},
   "outputs": [
    {
     "data": {
      "text/plain": [
       "3"
      ]
     },
     "execution_count": 68,
     "metadata": {},
     "output_type": "execute_result"
    }
   ],
   "source": [
    "x = Solution()\n",
    "\n",
    "x.romanToInt('III')"
   ]
  }
 ],
 "metadata": {
  "interpreter": {
   "hash": "1932785456cf4f119288ea3ebcc1e995dabfb0fd145e6ee6d8e83b8ee89252d0"
  },
  "kernelspec": {
   "display_name": "Python 3.8.3 ('base')",
   "language": "python",
   "name": "python3"
  },
  "language_info": {
   "codemirror_mode": {
    "name": "ipython",
    "version": 3
   },
   "file_extension": ".py",
   "mimetype": "text/x-python",
   "name": "python",
   "nbconvert_exporter": "python",
   "pygments_lexer": "ipython3",
   "version": "3.8.3"
  },
  "orig_nbformat": 4
 },
 "nbformat": 4,
 "nbformat_minor": 2
}
