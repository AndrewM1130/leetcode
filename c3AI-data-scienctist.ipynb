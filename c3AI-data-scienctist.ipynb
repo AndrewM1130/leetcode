{
 "cells": [
  {
   "cell_type": "code",
   "execution_count": 3,
   "metadata": {},
   "outputs": [],
   "source": [
    "#!/bin/python3\n",
    "\n",
    "import math\n",
    "import os\n",
    "import random\n",
    "import re\n",
    "import sys\n",
    "\n",
    "\n",
    "\n",
    "#\n",
    "# Complete the 'convert_schedule' function below.\n",
    "#\n",
    "# The function is expected to return a STRING.\n",
    "# The function accepts STRING compressed as parameter.\n",
    "#\n",
    "import re\n",
    "def convert_schedule(compressed):\n",
    "    \n",
    "    string = re.sub(r\"[\\[\\]']\", '', compressed)\n",
    "\n",
    "    expanded = ''\n",
    "    temp = 1\n",
    "    for character in string:\n",
    "        if character.isdigit():\n",
    "            if temp != 1:\n",
    "                temp = temp * int(character)\n",
    "            elif temp == 1:\n",
    "                temp = int(character)\n",
    "        else:\n",
    "            expanded += int(temp) * str(character)\n",
    "            temp = 1  \n",
    "        # Write your code here\n",
    "    return expanded"
   ]
  },
  {
   "cell_type": "code",
   "execution_count": 4,
   "metadata": {},
   "outputs": [
    {
     "data": {
      "text/plain": [
       "'AABBBBBBC'"
      ]
     },
     "execution_count": 4,
     "metadata": {},
     "output_type": "execute_result"
    }
   ],
   "source": [
    "compressed = '2[A]2[3[B]][C]'\n",
    "convert_schedule(compressed)"
   ]
  },
  {
   "cell_type": "code",
   "execution_count": null,
   "metadata": {},
   "outputs": [],
   "source": []
  }
 ],
 "metadata": {
  "interpreter": {
   "hash": "1932785456cf4f119288ea3ebcc1e995dabfb0fd145e6ee6d8e83b8ee89252d0"
  },
  "kernelspec": {
   "display_name": "Python 3.8.3 ('base')",
   "language": "python",
   "name": "python3"
  },
  "language_info": {
   "codemirror_mode": {
    "name": "ipython",
    "version": 3
   },
   "file_extension": ".py",
   "mimetype": "text/x-python",
   "name": "python",
   "nbconvert_exporter": "python",
   "pygments_lexer": "ipython3",
   "version": "3.8.3"
  },
  "orig_nbformat": 4
 },
 "nbformat": 4,
 "nbformat_minor": 2
}
