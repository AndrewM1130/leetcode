{
 "cells": [
  {
   "cell_type": "markdown",
   "metadata": {},
   "source": [
    "Given an array nums with n integers, your task is to check if it could become non-decreasing by modifying at most one element.\n",
    "\n",
    "We define an array is non-decreasing if nums[i] <= nums[i + 1] holds for every i (0-based) such that (0 <= i <= n - 2).\n",
    "\n",
    "Input: nums = [4,2,3]\n",
    "Output: true\n",
    "Explanation: You could modify the first 4 to 1 to get a non-decreasing array.\n",
    "\n",
    "Input: nums = [4,2,1]\n",
    "Output: false\n",
    "Explanation: You can't get a non-decreasing array by modify at most one element.\n",
    "\n",
    "Constraints:\n",
    "\n",
    "n == nums.length\n",
    "1 <= n <= 104\n",
    "-105 <= nums[i] <= 105"
   ]
  },
  {
   "cell_type": "code",
   "execution_count": 1,
   "metadata": {},
   "outputs": [],
   "source": [
    "nums = [4,2,6]"
   ]
  },
  {
   "cell_type": "code",
   "execution_count": null,
   "metadata": {},
   "outputs": [],
   "source": []
  }
 ],
 "metadata": {
  "kernelspec": {
   "display_name": "Python 3.8.3 ('base')",
   "language": "python",
   "name": "python3"
  },
  "language_info": {
   "codemirror_mode": {
    "name": "ipython",
    "version": 3
   },
   "file_extension": ".py",
   "mimetype": "text/x-python",
   "name": "python",
   "nbconvert_exporter": "python",
   "pygments_lexer": "ipython3",
   "version": "3.8.3"
  },
  "orig_nbformat": 4,
  "vscode": {
   "interpreter": {
    "hash": "1932785456cf4f119288ea3ebcc1e995dabfb0fd145e6ee6d8e83b8ee89252d0"
   }
  }
 },
 "nbformat": 4,
 "nbformat_minor": 2
}
