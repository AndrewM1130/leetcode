{
 "cells": [
  {
   "cell_type": "markdown",
   "metadata": {},
   "source": [
    "Given the root of a binary tree, return the inorder traversal of its nodes' values.\n",
    "\n",
    "Input: root = [1,null,2,3]\n",
    "Output: [1,3,2]\n",
    "\n",
    "Input: root = []\n",
    "Output: []\n",
    "\n",
    "Input: root = [1]\n",
    "Output: [1]\n",
    "\n",
    "Constraints:\n",
    "\n",
    "- The number of nodes in the tree is in the range [0, 100].\n",
    "- -100 <= Node.val <= 100"
   ]
  },
  {
   "cell_type": "code",
   "execution_count": 152,
   "metadata": {},
   "outputs": [],
   "source": [
    "# Definition for a binary tree node.\n",
    "class TreeNode:\n",
    "    def __init__(self, val=0, left=None, right=None):\n",
    "        self.val = val\n",
    "        self.left = left\n",
    "        self.right = right"
   ]
  },
  {
   "cell_type": "code",
   "execution_count": 153,
   "metadata": {},
   "outputs": [],
   "source": [
    "root = TreeNode(val = 3, left = \n",
    "    TreeNode(val= 9, left= None, right= None), right= \n",
    "    TreeNode(val= 20, left = \n",
    "    TreeNode(val= 15, left= None, right= None), right = \n",
    "    TreeNode(val= 7, left= None, right = None))) "
   ]
  },
  {
   "cell_type": "code",
   "execution_count": 154,
   "metadata": {},
   "outputs": [],
   "source": [
    "class Solution:\n",
    "    def inorderTraversal(self, root):\n",
    "        res = []\n",
    "        self.helper(root, res)\n",
    "        return res\n",
    "    def helper(self, root, res):\n",
    "        if root:\n",
    "            self.helper(root.left, res)\n",
    "            res.append(root.val)\n",
    "            self.helper(root.right, res)\n"
   ]
  },
  {
   "cell_type": "code",
   "execution_count": 151,
   "metadata": {},
   "outputs": [
    {
     "data": {
      "text/plain": [
       "[9, 3, 15, 20, 7]"
      ]
     },
     "execution_count": 151,
     "metadata": {},
     "output_type": "execute_result"
    }
   ],
   "source": [
    "x = Solution()\n",
    "x.inorderTraversal(root)"
   ]
  }
 ],
 "metadata": {
  "kernelspec": {
   "display_name": "Python 3.8.3 ('base')",
   "language": "python",
   "name": "python3"
  },
  "language_info": {
   "codemirror_mode": {
    "name": "ipython",
    "version": 3
   },
   "file_extension": ".py",
   "mimetype": "text/x-python",
   "name": "python",
   "nbconvert_exporter": "python",
   "pygments_lexer": "ipython3",
   "version": "3.8.3"
  },
  "orig_nbformat": 4,
  "vscode": {
   "interpreter": {
    "hash": "1932785456cf4f119288ea3ebcc1e995dabfb0fd145e6ee6d8e83b8ee89252d0"
   }
  }
 },
 "nbformat": 4,
 "nbformat_minor": 2
}
