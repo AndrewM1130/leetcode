{
 "cells": [
  {
   "cell_type": "markdown",
   "metadata": {},
   "source": [
    "Given a non-negative integer x, compute and return the square root of x.\n",
    "\n",
    "Since the return type is an integer, the decimal digits are truncated, and only the integer part of the result is returned.\n",
    "\n",
    "**Note: You are not allowed to use any built-in exponent function or operator, such as pow(x, 0.5) or x ** 0.5.**\n",
    "\n",
    "Example 1:\n",
    "\n",
    "Input: x = 4\\\n",
    "Output: 2\n",
    "\n",
    "\n",
    "Example 2:\n",
    "\n",
    "Input: x = 8\\\n",
    "Output: 2\n",
    "\n",
    "\n",
    "Explanation: The square root of 8 is 2.82842..., and since the decimal part is truncated, 2 is returned.\n",
    " \n",
    "\n",
    "Constraints:\n",
    "\n",
    "$0 \\leq x \\leq 2^{31} - 1$"
   ]
  },
  {
   "cell_type": "code",
   "execution_count": 66,
   "metadata": {},
   "outputs": [],
   "source": [
    "class Solution:\n",
    "    def mySqrt(self, x: int) -> int:\n",
    "\n",
    "        if x == 0:\n",
    "            return 0\n",
    "\n",
    "        start = 0.5 * x\n",
    "        guess = 0.5 * (start + x/start)\n",
    "\n",
    "        while guess != start:\n",
    "            start = guess\n",
    "            guess =  0.5 * (start + x/start)\n",
    "            \n",
    "        return int(start)"
   ]
  },
  {
   "cell_type": "code",
   "execution_count": 67,
   "metadata": {},
   "outputs": [
    {
     "data": {
      "text/plain": [
       "447"
      ]
     },
     "execution_count": 67,
     "metadata": {},
     "output_type": "execute_result"
    }
   ],
   "source": [
    "x = Solution()\n",
    "x.mySqrt(4)\n",
    "x.mySqrt(200000)"
   ]
  },
  {
   "cell_type": "code",
   "execution_count": 68,
   "metadata": {},
   "outputs": [
    {
     "data": {
      "text/plain": [
       "0"
      ]
     },
     "execution_count": 68,
     "metadata": {},
     "output_type": "execute_result"
    }
   ],
   "source": [
    "x.mySqrt(0)"
   ]
  },
  {
   "cell_type": "code",
   "execution_count": null,
   "metadata": {},
   "outputs": [],
   "source": []
  }
 ],
 "metadata": {
  "interpreter": {
   "hash": "1932785456cf4f119288ea3ebcc1e995dabfb0fd145e6ee6d8e83b8ee89252d0"
  },
  "kernelspec": {
   "display_name": "Python 3.8.3 ('base')",
   "language": "python",
   "name": "python3"
  },
  "language_info": {
   "codemirror_mode": {
    "name": "ipython",
    "version": 3
   },
   "file_extension": ".py",
   "mimetype": "text/x-python",
   "name": "python",
   "nbconvert_exporter": "python",
   "pygments_lexer": "ipython3",
   "version": "3.8.3"
  },
  "orig_nbformat": 4
 },
 "nbformat": 4,
 "nbformat_minor": 2
}
