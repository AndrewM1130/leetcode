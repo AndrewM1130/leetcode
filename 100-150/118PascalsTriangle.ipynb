{
 "cells": [
  {
   "cell_type": "markdown",
   "metadata": {},
   "source": [
    "Given an integer numRows, return the first numRows of Pascal's triangle.\n",
    "\n",
    "In Pascal's triangle, each number is the sum of the two numbers directly above it as shown:\n",
    "\n",
    "Input: numRows = 5\n",
    "Output: [[1],[1,1],[1,2,1],[1,3,3,1],[1,4,6,4,1]]\n",
    "\n",
    "Input: numRows = 1\n",
    "Output: [[1]]"
   ]
  },
  {
   "cell_type": "code",
   "execution_count": 48,
   "metadata": {},
   "outputs": [],
   "source": [
    "# O(N) + O(N^2)\n",
    "def generate_pascal(n):\n",
    "    \n",
    "    ##power of 11 rule for first 5\n",
    "    total = []\n",
    "    from math import comb\n",
    "    for i in range(0,n):\n",
    "        temp = []\n",
    "        for j in range(0,i+1):\n",
    "            print(f\"i = {i}, j = {j}, combs = {comb(i,j)}\")\n",
    "            temp.append(comb(i,j))\n",
    "        total.append(temp)\n",
    "\n",
    "    ## bonimial coefficient for rest\n",
    "    return total"
   ]
  },
  {
   "cell_type": "code",
   "execution_count": 50,
   "metadata": {},
   "outputs": [
    {
     "name": "stdout",
     "output_type": "stream",
     "text": [
      "i = 0, j = 0, combs = 1\n",
      "i = 1, j = 0, combs = 1\n",
      "i = 1, j = 1, combs = 1\n",
      "i = 2, j = 0, combs = 1\n",
      "i = 2, j = 1, combs = 2\n",
      "i = 2, j = 2, combs = 1\n"
     ]
    },
    {
     "data": {
      "text/plain": [
       "[[1], [1, 1], [1, 2, 1]]"
      ]
     },
     "execution_count": 50,
     "metadata": {},
     "output_type": "execute_result"
    }
   ],
   "source": [
    "generate_pascal(3)"
   ]
  },
  {
   "cell_type": "code",
   "execution_count": 44,
   "metadata": {},
   "outputs": [
    {
     "name": "stdout",
     "output_type": "stream",
     "text": [
      "i = 0, j = 0, combs = 1\n",
      "i = 1, j = 0, combs = 1\n",
      "i = 1, j = 1, combs = 1\n",
      "i = 2, j = 0, combs = 1\n",
      "i = 2, j = 1, combs = 2\n",
      "i = 2, j = 2, combs = 1\n",
      "i = 3, j = 0, combs = 1\n",
      "i = 3, j = 1, combs = 3\n",
      "i = 3, j = 2, combs = 3\n",
      "i = 3, j = 3, combs = 1\n",
      "i = 4, j = 0, combs = 1\n",
      "i = 4, j = 1, combs = 4\n",
      "i = 4, j = 2, combs = 6\n",
      "i = 4, j = 3, combs = 4\n",
      "i = 4, j = 4, combs = 1\n"
     ]
    }
   ],
   "source": [
    "n = 5\n",
    "total = []\n",
    "from math import comb\n",
    "for i in range(0,n):\n",
    "    temp = []\n",
    "    for j in range(0,i+1):\n",
    "        print(f\"i = {i}, j = {j}, combs = {comb(i,j)}\")\n",
    "        temp.append(comb(i,j))\n",
    "    total.append(temp)"
   ]
  },
  {
   "cell_type": "code",
   "execution_count": 45,
   "metadata": {},
   "outputs": [
    {
     "data": {
      "text/plain": [
       "[[1], [1, 1], [1, 2, 1], [1, 3, 3, 1], [1, 4, 6, 4, 1]]"
      ]
     },
     "execution_count": 45,
     "metadata": {},
     "output_type": "execute_result"
    }
   ],
   "source": [
    "total"
   ]
  },
  {
   "cell_type": "code",
   "execution_count": 34,
   "metadata": {},
   "outputs": [],
   "source": [
    "x.extend([2])"
   ]
  },
  {
   "cell_type": "code",
   "execution_count": 35,
   "metadata": {},
   "outputs": [
    {
     "data": {
      "text/plain": [
       "[2, 2, 2]"
      ]
     },
     "execution_count": 35,
     "metadata": {},
     "output_type": "execute_result"
    }
   ],
   "source": [
    "x"
   ]
  },
  {
   "cell_type": "code",
   "execution_count": 43,
   "metadata": {},
   "outputs": [
    {
     "data": {
      "text/plain": [
       "int"
      ]
     },
     "execution_count": 43,
     "metadata": {},
     "output_type": "execute_result"
    }
   ],
   "source": [
    "type(comb(0,0))"
   ]
  },
  {
   "cell_type": "code",
   "execution_count": null,
   "metadata": {},
   "outputs": [],
   "source": []
  }
 ],
 "metadata": {
  "kernelspec": {
   "display_name": "Python 3.8.3 ('base')",
   "language": "python",
   "name": "python3"
  },
  "language_info": {
   "codemirror_mode": {
    "name": "ipython",
    "version": 3
   },
   "file_extension": ".py",
   "mimetype": "text/x-python",
   "name": "python",
   "nbconvert_exporter": "python",
   "pygments_lexer": "ipython3",
   "version": "3.8.3"
  },
  "orig_nbformat": 4,
  "vscode": {
   "interpreter": {
    "hash": "1932785456cf4f119288ea3ebcc1e995dabfb0fd145e6ee6d8e83b8ee89252d0"
   }
  }
 },
 "nbformat": 4,
 "nbformat_minor": 2
}
